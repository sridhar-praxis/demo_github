{
 "cells": [
  {
   "cell_type": "code",
   "execution_count": 2,
   "id": "4b9e8f1d",
   "metadata": {},
   "outputs": [],
   "source": [
    "import numpy as np\n",
    "from sklearn.model_selection import train_test_split, cross_val_score\n",
    "from sklearn.tree import DecisionTreeRegressor\n",
    "from sklearn.metrics import mean_absolute_percentage_error\n",
    "from sklearn.model_selection import GridSearchCV\n",
    "import statsmodels.api as sm\n",
    "from scipy import stats\n",
    "import statsmodels.stats.stattools as stattools"
   ]
  },
  {
   "cell_type": "code",
   "execution_count": 3,
   "id": "c46b783a",
   "metadata": {},
   "outputs": [],
   "source": [
    "# Generate a toy dataset\n",
    "n = 100\n",
    "\n",
    "np.random.seed(42)\n",
    "X = np.random.rand(n, 2)  # Two features\n",
    "\n",
    "# Add constant term to X for intercept\n",
    "X = sm.add_constant(X)\n",
    "\n",
    "y = np.random.rand(n)  # Target variable"
   ]
  },
  {
   "cell_type": "code",
   "execution_count": 4,
   "id": "467aca2f",
   "metadata": {},
   "outputs": [],
   "source": [
    "# Split the dataset into train and test sets\n",
    "X_train, X_test, y_train, y_test = train_test_split(X, y, test_size=0.2, random_state=42)"
   ]
  },
  {
   "cell_type": "code",
   "execution_count": 5,
   "id": "4cc4d53b",
   "metadata": {
    "scrolled": true
   },
   "outputs": [
    {
     "data": {
      "text/html": [
       "<table class=\"simpletable\">\n",
       "<caption>OLS Regression Results</caption>\n",
       "<tr>\n",
       "  <th>Dep. Variable:</th>            <td>y</td>        <th>  R-squared:         </th> <td>   0.020</td>\n",
       "</tr>\n",
       "<tr>\n",
       "  <th>Model:</th>                   <td>OLS</td>       <th>  Adj. R-squared:    </th> <td>  -0.006</td>\n",
       "</tr>\n",
       "<tr>\n",
       "  <th>Method:</th>             <td>Least Squares</td>  <th>  F-statistic:       </th> <td>  0.7702</td>\n",
       "</tr>\n",
       "<tr>\n",
       "  <th>Date:</th>             <td>Wed, 07 Jun 2023</td> <th>  Prob (F-statistic):</th>  <td> 0.466</td> \n",
       "</tr>\n",
       "<tr>\n",
       "  <th>Time:</th>                 <td>09:23:52</td>     <th>  Log-Likelihood:    </th> <td> -13.736</td>\n",
       "</tr>\n",
       "<tr>\n",
       "  <th>No. Observations:</th>      <td>    80</td>      <th>  AIC:               </th> <td>   33.47</td>\n",
       "</tr>\n",
       "<tr>\n",
       "  <th>Df Residuals:</th>          <td>    77</td>      <th>  BIC:               </th> <td>   40.62</td>\n",
       "</tr>\n",
       "<tr>\n",
       "  <th>Df Model:</th>              <td>     2</td>      <th>                     </th>     <td> </td>   \n",
       "</tr>\n",
       "<tr>\n",
       "  <th>Covariance Type:</th>      <td>nonrobust</td>    <th>                     </th>     <td> </td>   \n",
       "</tr>\n",
       "</table>\n",
       "<table class=\"simpletable\">\n",
       "<tr>\n",
       "    <td></td>       <th>coef</th>     <th>std err</th>      <th>t</th>      <th>P>|t|</th>  <th>[0.025</th>    <th>0.975]</th>  \n",
       "</tr>\n",
       "<tr>\n",
       "  <th>const</th> <td>    0.5823</td> <td>    0.082</td> <td>    7.107</td> <td> 0.000</td> <td>    0.419</td> <td>    0.745</td>\n",
       "</tr>\n",
       "<tr>\n",
       "  <th>x1</th>    <td>    0.0038</td> <td>    0.104</td> <td>    0.037</td> <td> 0.971</td> <td>   -0.204</td> <td>    0.212</td>\n",
       "</tr>\n",
       "<tr>\n",
       "  <th>x2</th>    <td>   -0.1413</td> <td>    0.114</td> <td>   -1.241</td> <td> 0.218</td> <td>   -0.368</td> <td>    0.085</td>\n",
       "</tr>\n",
       "</table>\n",
       "<table class=\"simpletable\">\n",
       "<tr>\n",
       "  <th>Omnibus:</th>       <td>16.841</td> <th>  Durbin-Watson:     </th> <td>   2.255</td>\n",
       "</tr>\n",
       "<tr>\n",
       "  <th>Prob(Omnibus):</th> <td> 0.000</td> <th>  Jarque-Bera (JB):  </th> <td>   4.282</td>\n",
       "</tr>\n",
       "<tr>\n",
       "  <th>Skew:</th>          <td>-0.102</td> <th>  Prob(JB):          </th> <td>   0.118</td>\n",
       "</tr>\n",
       "<tr>\n",
       "  <th>Kurtosis:</th>      <td> 1.885</td> <th>  Cond. No.          </th> <td>    5.04</td>\n",
       "</tr>\n",
       "</table><br/><br/>Notes:<br/>[1] Standard Errors assume that the covariance matrix of the errors is correctly specified."
      ],
      "text/plain": [
       "<class 'statsmodels.iolib.summary.Summary'>\n",
       "\"\"\"\n",
       "                            OLS Regression Results                            \n",
       "==============================================================================\n",
       "Dep. Variable:                      y   R-squared:                       0.020\n",
       "Model:                            OLS   Adj. R-squared:                 -0.006\n",
       "Method:                 Least Squares   F-statistic:                    0.7702\n",
       "Date:                Wed, 07 Jun 2023   Prob (F-statistic):              0.466\n",
       "Time:                        09:23:52   Log-Likelihood:                -13.736\n",
       "No. Observations:                  80   AIC:                             33.47\n",
       "Df Residuals:                      77   BIC:                             40.62\n",
       "Df Model:                           2                                         \n",
       "Covariance Type:            nonrobust                                         \n",
       "==============================================================================\n",
       "                 coef    std err          t      P>|t|      [0.025      0.975]\n",
       "------------------------------------------------------------------------------\n",
       "const          0.5823      0.082      7.107      0.000       0.419       0.745\n",
       "x1             0.0038      0.104      0.037      0.971      -0.204       0.212\n",
       "x2            -0.1413      0.114     -1.241      0.218      -0.368       0.085\n",
       "==============================================================================\n",
       "Omnibus:                       16.841   Durbin-Watson:                   2.255\n",
       "Prob(Omnibus):                  0.000   Jarque-Bera (JB):                4.282\n",
       "Skew:                          -0.102   Prob(JB):                        0.118\n",
       "Kurtosis:                       1.885   Cond. No.                         5.04\n",
       "==============================================================================\n",
       "\n",
       "Notes:\n",
       "[1] Standard Errors assume that the covariance matrix of the errors is correctly specified.\n",
       "\"\"\""
      ]
     },
     "execution_count": 5,
     "metadata": {},
     "output_type": "execute_result"
    }
   ],
   "source": [
    "# Fit a OLS model\n",
    "model = sm.OLS(y_train, X_train).fit()\n",
    "model.summary()"
   ]
  },
  {
   "cell_type": "code",
   "execution_count": 6,
   "id": "466cd2d5",
   "metadata": {},
   "outputs": [
    {
     "data": {
      "text/plain": [
       "0.03653846153846154"
      ]
     },
     "execution_count": 6,
     "metadata": {},
     "output_type": "execute_result"
    }
   ],
   "source": [
    "0.0038/0.104"
   ]
  },
  {
   "cell_type": "code",
   "execution_count": 7,
   "id": "021ab626",
   "metadata": {},
   "outputs": [
    {
     "data": {
      "text/plain": [
       "0.2183733703090349"
      ]
     },
     "execution_count": 7,
     "metadata": {},
     "output_type": "execute_result"
    }
   ],
   "source": [
    "# df = n - k - 1 where k is no of features\n",
    "n = 80\n",
    "k = 2\n",
    "df = n - k - 1\n",
    "stats.t.cdf(-1.241,df=df)*2"
   ]
  },
  {
   "cell_type": "code",
   "execution_count": 8,
   "id": "e8db8ee9",
   "metadata": {},
   "outputs": [
    {
     "data": {
      "text/plain": [
       "SignificanceResult(statistic=4.281983597317015, pvalue=0.11753821095362818)"
      ]
     },
     "execution_count": 8,
     "metadata": {},
     "output_type": "execute_result"
    }
   ],
   "source": [
    "# Ho: residuals are normal\n",
    "stats.jarque_bera(model.resid)"
   ]
  },
  {
   "cell_type": "code",
   "execution_count": 9,
   "id": "37d13677",
   "metadata": {},
   "outputs": [
    {
     "name": "stdout",
     "output_type": "stream",
     "text": [
      "2.2548148377375328\n"
     ]
    }
   ],
   "source": [
    "# Perform Durbin-Watson test\n",
    "dw_value = stattools.durbin_watson(model.resid)\n",
    "\n",
    "print(dw_value)"
   ]
  },
  {
   "cell_type": "code",
   "execution_count": 10,
   "id": "62233385",
   "metadata": {},
   "outputs": [
    {
     "name": "stdout",
     "output_type": "stream",
     "text": [
      "f stat: 0.7702113679517493\n"
     ]
    }
   ],
   "source": [
    "# f stat is calculated as (SSR / k) / (SSE / n-k-1)\n",
    "yhat_train = model.predict(X_train)\n",
    "ybar_train = np.mean(y_train)\n",
    "MSR = np.sum((yhat_train - ybar_train)**2)/k\n",
    "MSE = np.sum((y_train - yhat_train)**2)/(n-k-1)\n",
    "print(\"f stat:\", MSR / MSE)"
   ]
  },
  {
   "cell_type": "code",
   "execution_count": 11,
   "id": "f7e8e16d",
   "metadata": {},
   "outputs": [
    {
     "data": {
      "text/plain": [
       "0.46645336626060396"
      ]
     },
     "execution_count": 11,
     "metadata": {},
     "output_type": "execute_result"
    }
   ],
   "source": [
    "# pvalue of f stat\n",
    "dfn = k\n",
    "dfd = n - k - 1\n",
    "f_stat = 0.7702\n",
    "stats.f.sf(f_stat, dfn=dfn, dfd=dfd)"
   ]
  },
  {
   "cell_type": "code",
   "execution_count": null,
   "id": "7c682a5a",
   "metadata": {},
   "outputs": [],
   "source": []
  }
 ],
 "metadata": {
  "kernelspec": {
   "display_name": "Python 3 (ipykernel)",
   "language": "python",
   "name": "python3"
  },
  "language_info": {
   "codemirror_mode": {
    "name": "ipython",
    "version": 3
   },
   "file_extension": ".py",
   "mimetype": "text/x-python",
   "name": "python",
   "nbconvert_exporter": "python",
   "pygments_lexer": "ipython3",
   "version": "3.10.9"
  }
 },
 "nbformat": 4,
 "nbformat_minor": 5
}
